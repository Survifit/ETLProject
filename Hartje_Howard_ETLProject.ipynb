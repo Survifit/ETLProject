{
 "cells": [
  {
   "cell_type": "markdown",
   "metadata": {},
   "source": [
    "# ETL Project"
   ]
  },
  {
   "cell_type": "code",
   "execution_count": null,
   "metadata": {},
   "outputs": [],
   "source": [
    "# imports\n",
    "import pandas as pd\n",
    "import numpy as np\n",
    "import requests\n",
    "from sqlalchemy import create_engine\n"
   ]
  },
  {
   "cell_type": "code",
   "execution_count": null,
   "metadata": {},
   "outputs": [],
   "source": [
    "## Chris Extract/Transform below\n"
   ]
  },
  {
   "cell_type": "code",
   "execution_count": null,
   "metadata": {},
   "outputs": [],
   "source": []
  },
  {
   "cell_type": "code",
   "execution_count": null,
   "metadata": {},
   "outputs": [],
   "source": []
  },
  {
   "cell_type": "code",
   "execution_count": null,
   "metadata": {},
   "outputs": [],
   "source": [
    "## Stephanie Extract/Transform below"
   ]
  },
  {
   "cell_type": "markdown",
   "metadata": {},
   "source": [
    "# Extract CSVs into DataFrames\n",
    "    ### AtlanticStorms from https://www.kaggle.com/noaa/hurricane-database\n",
    "        #### Each date has up to 5 observations per day (but not all days have 5)\n",
    "        #### Older data appears to use -999 from wind pressure and speed instead of something like NA\n",
    "        #### ID: AL = Atlantic, XX = number storm for year, YYYY = year\n",
    "    ### PacificStorms from https://www.kaggle.com/noaa/hurricane-database\n",
    "        #### Each date has up to 5 observations per day (but not all days have 5)\n",
    "        #### Older data appears to use -999 from wind pressure and speed instead of something like NA\n",
    "        #### ID: EP = Pacific, XX = number storm for year, YYYY = year\n",
    "    ### "
   ]
  },
  {
   "cell_type": "code",
   "execution_count": null,
   "metadata": {
    "scrolled": true
   },
   "outputs": [],
   "source": [
    "#Extract Atlantic Storm Data\n",
    "\n",
    "AtlanticStorm = \"Data/Atlantic_Storms.csv\"\n",
    "AtlanticStorm_df = pd.read_csv(AtlanticStorm)\n",
    "AtlanticStorm_df.head()"
   ]
  },
  {
   "cell_type": "code",
   "execution_count": null,
   "metadata": {},
   "outputs": [],
   "source": [
    "#Extract Pacific Storm Data\n",
    "\n",
    "PacificStorm = \"Data/Pacific_Storms.csv\"\n",
    "PacificStorm_df = pd.read_csv(PacificStorm)\n",
    "PacificStorm_df.head()"
   ]
  },
  {
   "cell_type": "code",
   "execution_count": null,
   "metadata": {},
   "outputs": [],
   "source": [
    "# Combine Atlantic and Pacific Storm Data\n",
    "\n",
    "AtlPacStorms = [AtlanticStorm_df, PacificStorm_df]\n",
    "AtlPacStorms_df = pd.concat(AtlPacStorms).reset_index(drop=True)\n",
    "AtlPacStorms_df.head()"
   ]
  },
  {
   "cell_type": "code",
   "execution_count": null,
   "metadata": {},
   "outputs": [],
   "source": [
    "# Check that Pacific Storms are included in combined df\n",
    "\n",
    "AtlPacStorms_df.loc[AtlPacStorms_df['ID'] == \"EP011949\"]"
   ]
  },
  {
   "cell_type": "code",
   "execution_count": null,
   "metadata": {},
   "outputs": [],
   "source": [
    "AtlPacStorms_df.dtypes"
   ]
  },
  {
   "cell_type": "code",
   "execution_count": null,
   "metadata": {},
   "outputs": [],
   "source": [
    "# Adjust date format\n",
    "\n",
    "# make string version of original Date column, call it 'col'\n",
    "AtlPacStorms_df['col'] = AtlPacStorms_df['Date'].apply(str)\n",
    "\n",
    "# make the new columns using string indexing\n",
    "AtlPacStorms_df['Year'] = AtlPacStorms_df['col'].str[0:4]\n",
    "AtlPacStorms_df['Month'] = AtlPacStorms_df['col'].str[4:6]\n",
    "AtlPacStorms_df['Day'] = AtlPacStorms_df['col'].str[6:8]\n",
    "\n",
    "# get rid of the extra variable (if you want)\n",
    "AtlPacStorms_df.drop('col', axis=1, inplace=True)\n",
    "\n",
    "#check result\n",
    "AtlPacStorms_df.head()"
   ]
  },
  {
   "cell_type": "code",
   "execution_count": null,
   "metadata": {},
   "outputs": [],
   "source": [
    "#Select columns to keep\n",
    "\n",
    "AtlPacStorms_df = AtlPacStorms_df[[\"Year\", \"Month\", \"Day\", \"ID\", \"Status\", \"Time\", \"Latitude\", \"Longitude\"]]\n",
    "AtlPacStorms_df.head()\n"
   ]
  },
  {
   "cell_type": "code",
   "execution_count": null,
   "metadata": {},
   "outputs": [],
   "source": [
    "AtlPacStorms_df[\"Status\"] = AtlPacStorms_df['Status'].astype(str)\n",
    "AtlPacStorms_df.dtypes"
   ]
  },
  {
   "cell_type": "code",
   "execution_count": null,
   "metadata": {},
   "outputs": [],
   "source": [
    "# We are only interested in Hurricanes to only keep rows with Status = HU\n",
    "\n",
    "AtlPacStorms_df = AtlPacStorms_df.loc[AtlPacStorms_df[\"Status\"] == \" HU\"]\n",
    "AtlPacStorms_df.head()"
   ]
  },
  {
   "cell_type": "code",
   "execution_count": null,
   "metadata": {},
   "outputs": [],
   "source": [
    "# Keep only the first observation of each unique ID\n",
    "\n",
    "Hurricane_df = AtlPacStorms_df.drop_duplicates(subset=[AtlPacStorms_df.columns[3]], keep = \"first\")\n",
    "Hurricane_df.head()"
   ]
  },
  {
   "cell_type": "code",
   "execution_count": null,
   "metadata": {},
   "outputs": [],
   "source": [
    "# Drop Status and Time columns\n",
    "\n",
    "Hurricane_df = Hurricane_df[[\"Year\", \"Month\", \"Day\", \"ID\", \"Latitude\", \"Longitude\"]]\n",
    "Hurricane_df = Hurricane_df.reset_index(drop = True)\n",
    "Hurricane_df.head()\n"
   ]
  },
  {
   "cell_type": "code",
   "execution_count": null,
   "metadata": {},
   "outputs": [],
   "source": [
    "## Chris Load below"
   ]
  },
  {
   "cell_type": "code",
   "execution_count": null,
   "metadata": {},
   "outputs": [],
   "source": []
  },
  {
   "cell_type": "code",
   "execution_count": null,
   "metadata": {},
   "outputs": [],
   "source": []
  },
  {
   "cell_type": "code",
   "execution_count": null,
   "metadata": {},
   "outputs": [],
   "source": [
    "## Stephanie Load below"
   ]
  },
  {
   "cell_type": "code",
   "execution_count": null,
   "metadata": {},
   "outputs": [],
   "source": []
  },
  {
   "cell_type": "code",
   "execution_count": null,
   "metadata": {},
   "outputs": [],
   "source": []
  },
  {
   "cell_type": "code",
   "execution_count": null,
   "metadata": {},
   "outputs": [],
   "source": []
  }
 ],
 "metadata": {
  "kernelspec": {
   "display_name": "Python 3",
   "language": "python",
   "name": "python3"
  },
  "language_info": {
   "codemirror_mode": {
    "name": "ipython",
    "version": 3
   },
   "file_extension": ".py",
   "mimetype": "text/x-python",
   "name": "python",
   "nbconvert_exporter": "python",
   "pygments_lexer": "ipython3",
   "version": "3.6.7"
  }
 },
 "nbformat": 4,
 "nbformat_minor": 2
}
